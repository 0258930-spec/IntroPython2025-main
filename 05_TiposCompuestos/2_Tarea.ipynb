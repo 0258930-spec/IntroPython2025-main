{
 "cells": [
  {
   "cell_type": "code",
   "execution_count": 54,
   "id": "314b52cc",
   "metadata": {},
   "outputs": [],
   "source": [
    "grid = [\n",
    "    [0, 0, 0, 0, 1],\n",
    "    [0, 1, 1, 0, 1],\n",
    "    [0, 0, 0, 0, 0],\n",
    "    [0, 1, 0, 1, 0],\n",
    "    [0, 0, 0, 0, 0]\n",
    "]\n",
    "\n",
    "start = (0, 0)\n",
    "goal = (4, 4)"
   ]
  },
  {
   "cell_type": "code",
   "execution_count": 2,
   "id": "6b152f1e",
   "metadata": {},
   "outputs": [
    {
     "name": "stdout",
     "output_type": "stream",
     "text": [
      "(0, 0)\n",
      "(0, 1)\n",
      "(0, 2)\n",
      "(0, 3)\n",
      "(0, 4)\n",
      "(1, 4)\n",
      "(2, 4)\n",
      "(3, 4)\n",
      "(4, 4)\n"
     ]
    },
    {
     "data": {
      "text/plain": [
       "[[2, 0, 0, 0, 1],\n",
       " [2, 1, 1, 0, 1],\n",
       " [2, 0, 0, 0, 0],\n",
       " [2, 1, 0, 1, 0],\n",
       " [2, 2, 2, 2, 2]]"
      ]
     },
     "execution_count": 2,
     "metadata": {},
     "output_type": "execute_result"
    }
   ],
   "source": [
    "grid = [\n",
    "    [0, 0, 0, 0, 1],\n",
    "    [0, 1, 1, 0, 1],\n",
    "    [0, 0, 0, 0, 0],\n",
    "    [0, 1, 0, 1, 0],\n",
    "    [0, 0, 0, 0, 0]\n",
    "]\n",
    "start = (0, 0)\n",
    "goal = (4, 4)\n",
    "Clear = 0\n",
    "x = start[0]\n",
    "y = start[1]\n",
    "Fin_grid=grid\n",
    "while Clear == 0:\n",
    "    Pos = (x, y)\n",
    "    if Pos == goal:\n",
    "        Clear = 1\n",
    "    else:\n",
    "        if y < 4 and grid[y + 1][x] == 0:\n",
    "            y += 1\n",
    "        elif x < 4 and grid[y][x + 1] == 0:\n",
    "            x += 1\n",
    "        elif y > 0 and grid[y - 1][x] == 0:\n",
    "            y -= 1\n",
    "        elif x > 0 and grid[y][x - 1] == 0:\n",
    "            x -= 1\n",
    "        else:\n",
    "            print(\"No path found\")\n",
    "            break\n",
    "    print(Pos)\n",
    "    Fin_grid[Pos[1]][Pos[0]] = 2\n",
    "Fin_grid\n"
   ]
  },
  {
   "cell_type": "code",
   "execution_count": 27,
   "id": "450f27be",
   "metadata": {},
   "outputs": [],
   "source": [
    "# Ejemplo de uso\n",
    "grid = [\n",
    "    [0, 0, 0, 0, 1],\n",
    "    [0, 1, 1, 0, 1],\n",
    "    [0, 0, 0, 0, 0],\n",
    "    [0, 1, 0, 1, 0],\n",
    "    [0, 0, 0, 0, 0]\n",
    "]\n",
    "\n",
    "start = (0, 0)\n",
    "goal = (4, 4)\n",
    "#path = a_star(grid, start, goal)\n",
    "#print(\"Camino encontrado:\", path)"
   ]
  },
  {
   "cell_type": "code",
   "execution_count": 31,
   "id": "f9389da2",
   "metadata": {},
   "outputs": [
    {
     "data": {
      "text/plain": [
       "[(0, 0), (1, 0), (2, 0), (3, 0), (4, 0), (4, 1), (4, 2), (4, 3), (4, 4)]"
      ]
     },
     "execution_count": 31,
     "metadata": {},
     "output_type": "execute_result"
    }
   ],
   "source": [
    "path\n"
   ]
  },
  {
   "cell_type": "code",
   "execution_count": 32,
   "id": "27f51fd2",
   "metadata": {},
   "outputs": [
    {
     "data": {
      "text/plain": [
       "[[0, 0, 0, 0, 1],\n",
       " [0, 1, 1, 0, 1],\n",
       " [0, 0, 0, 0, 0],\n",
       " [0, 1, 0, 1, 0],\n",
       " [0, 0, 0, 0, 0]]"
      ]
     },
     "execution_count": 32,
     "metadata": {},
     "output_type": "execute_result"
    }
   ],
   "source": [
    "grid"
   ]
  },
  {
   "cell_type": "code",
   "execution_count": 25,
   "id": "c88554e3",
   "metadata": {},
   "outputs": [
    {
     "data": {
      "text/plain": [
       "[[2, 0, 0, 0, 1],\n",
       " [2, 1, 1, 0, 1],\n",
       " [2, 0, 0, 0, 0],\n",
       " [2, 1, 0, 1, 0],\n",
       " [2, 2, 2, 2, 2]]"
      ]
     },
     "execution_count": 25,
     "metadata": {},
     "output_type": "execute_result"
    }
   ],
   "source": [
    "gridpath = grid.copy()\n",
    "for x,y in path:\n",
    "    gridpath[x][y] = 2\n",
    "\n",
    "gridpath"
   ]
  },
  {
   "cell_type": "code",
   "execution_count": null,
   "id": "f360b440",
   "metadata": {},
   "outputs": [
    {
     "data": {
      "text/plain": [
       "(5, 5)"
      ]
     },
     "execution_count": 26,
     "metadata": {},
     "output_type": "execute_result"
    }
   ],
   "source": [
    "\n",
    "grid = [\n",
    "    [0, 0, 0, 0, 1],\n",
    "    [0, 1, 1, 0, 1],\n",
    "    [1, 0, 0, 0, 0],\n",
    "    [0, 1, 0, 1, 0],\n",
    "    [0, 0, 0, 0, 0]\n",
    "]\n",
    "\n"
   ]
  },
  {
   "cell_type": "code",
   "execution_count": 29,
   "id": "cd2b5a63",
   "metadata": {},
   "outputs": [
    {
     "data": {
      "text/plain": [
       "[[0, 0, 0, 0, 1],\n",
       " [0, 1, 1, 0, 1],\n",
       " [1, 0, 0, 0, 0],\n",
       " [0, 1, 0, 1, 0],\n",
       " [0, 0, 0, 0, 0]]"
      ]
     },
     "execution_count": 29,
     "metadata": {},
     "output_type": "execute_result"
    }
   ],
   "source": [
    "grid"
   ]
  },
  {
   "cell_type": "code",
   "execution_count": null,
   "id": "18c25908",
   "metadata": {},
   "outputs": [],
   "source": []
  },
  {
   "cell_type": "code",
   "execution_count": 31,
   "id": "2094217b",
   "metadata": {},
   "outputs": [
    {
     "data": {
      "text/plain": [
       "[[2, 2, 2, 2, 1],\n",
       " [2, 1, 1, 2, 1],\n",
       " [1, 0, 2, 2, 2],\n",
       " [0, 1, 2, 1, 0],\n",
       " [0, 0, 2, 2, 2]]"
      ]
     },
     "execution_count": 31,
     "metadata": {},
     "output_type": "execute_result"
    }
   ],
   "source": [
    "#gridpath = grid.copy()\n",
    "for x,y in path:\n",
    "    gridpath[x][y] = 2\n",
    "\n",
    "gridpath"
   ]
  },
  {
   "cell_type": "code",
   "execution_count": 5,
   "id": "c11559cc",
   "metadata": {},
   "outputs": [
    {
     "name": "stdout",
     "output_type": "stream",
     "text": [
      "(0, 0)\n",
      "(0, 1)\n",
      "(0, 2)\n",
      "(0, 3)\n",
      "(0, 4)\n",
      "(1, 4)\n",
      "(2, 4)\n",
      "(3, 4)\n",
      "(4, 4)\n"
     ]
    },
    {
     "data": {
      "text/plain": [
       "[[2, 0, 0, 0, 1],\n",
       " [2, 1, 1, 0, 1],\n",
       " [2, 0, 0, 0, 0],\n",
       " [2, 1, 0, 1, 0],\n",
       " [2, 2, 2, 2, 2]]"
      ]
     },
     "execution_count": 5,
     "metadata": {},
     "output_type": "execute_result"
    }
   ],
   "source": [
    "grid = [\n",
    "    [0, 0, 0, 0, 1],\n",
    "    [0, 1, 1, 0, 1],\n",
    "    [0, 0, 0, 0, 0],\n",
    "    [0, 1, 0, 1, 0],\n",
    "    [0, 0, 0, 0, 0]\n",
    "]\n",
    "start = (0, 0)\n",
    "goal = (4, 4)\n",
    "Clear = 0\n",
    "x = start[0]\n",
    "y = start[1]\n",
    "Fin_grid=grid\n",
    "while Clear == 0:\n",
    "    Pos = (x, y)\n",
    "    if Pos == goal:\n",
    "        Clear = 1\n",
    "    else:\n",
    "        if y < 4 and grid[y + 1][x] == 0:\n",
    "            y += 1\n",
    "        elif x < 4 and grid[y][x + 1] == 0:\n",
    "            x += 1\n",
    "        elif y > 0 and grid[y - 1][x] == 0:\n",
    "            y -= 1\n",
    "        elif x > 0 and grid[y][x - 1] == 0:\n",
    "            x -= 1\n",
    "        else:\n",
    "            print(\"No path found\")\n",
    "            break\n",
    "    print(Pos)\n",
    "    Fin_grid[Pos[1]][Pos[0]] = 2\n",
    "Fin_grid"
   ]
  },
  {
   "cell_type": "code",
   "execution_count": null,
   "id": "28ca7bf1",
   "metadata": {},
   "outputs": [],
   "source": []
  }
 ],
 "metadata": {
  "kernelspec": {
   "display_name": "base",
   "language": "python",
   "name": "python3"
  },
  "language_info": {
   "codemirror_mode": {
    "name": "ipython",
    "version": 3
   },
   "file_extension": ".py",
   "mimetype": "text/x-python",
   "name": "python",
   "nbconvert_exporter": "python",
   "pygments_lexer": "ipython3",
   "version": "3.13.5"
  }
 },
 "nbformat": 4,
 "nbformat_minor": 5
}
